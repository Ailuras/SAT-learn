{
 "cells": [
  {
   "cell_type": "code",
   "execution_count": 4,
   "metadata": {},
   "outputs": [
    {
     "name": "stderr",
     "output_type": "stream",
     "text": [
      "20:   0%|          | 0/50 [00:00<?, ?it/s]"
     ]
    },
    {
     "name": "stdout",
     "output_type": "stream",
     "text": [
      "qfnia_2_20.log\n",
      "../../QF_NIA_split/QF_NIA_2_20//20170427-VeryMax/ITS/From_T2__1394complete-fail.t2__p15157_safety_0.smt2 : 410 ms.\n",
      "\n",
      "../../QF_NIA_split/QF_NIA_2_20//20170427-VeryMax/ITS/From_T2__1394complete-fail.t2__p15160_safety_0.smt2 : 431 ms.\n",
      "\n",
      "../../QF_NIA_split/QF_NIA_2_20//20170427-VeryMax/ITS/From_T2__1394complete-fail.t2__p15161_safety_0.smt2 : 696 ms.\n",
      "\n",
      "../../QF_NIA_split/QF_NIA_2_20//20170427-VeryMax/ITS/From_T2__1394-fail.t2__p15221_safety_0.smt2 : 459 ms.\n",
      "\n",
      "../../QF_NIA_split/QF_NIA_2_20//20170427-VeryMax/ITS/From_T2__1394-fail.t2__p15222_safety_0.smt2 : 941 ms.\n",
      "\n",
      "../../QF_NIA_split/QF_NIA_2_20//20170427-VeryMax/ITS/From_T2__1394-succeed.t2__p15250_safety_0.smt2 : 479 ms.\n",
      "\n",
      "../../QF_NIA_split/QF_NIA_2_20//20170427-VeryMax/ITS/From_T2__1394-succeed.t2__p15251_safety_0.smt2 : 1046 ms.\n",
      "\n",
      "../../QF_NIA_split/QF_NIA_2_20//20170427-VeryMax/ITS/From_T2__1.t2__p15279_safety_0.smt2 : 132 ms.\n",
      "\n",
      "../../QF_NIA_split/QF_NIA_2_20//20170427-VeryMax/ITS/From_T2__1.t2__p15280_safety_0.smt2 : 900 ms.\n",
      "\n",
      "../../QF_NIA_split/QF_NIA_2_20//20170427-VeryMax/ITS/From_T2__1.t2__p15284_terminationG_0.smt2 : 1200043 ms.\n",
      "\n",
      "../../QF_NIA_split/QF_NIA_2_20//20170427-VeryMax/ITS/From_T2__1.t2__p15285_terminationG_0.smt2 : 1200034 ms.\n",
      "\n",
      "../../QF_NIA_split/QF_NIA_2_20//20170427-VeryMax/ITS/From_T2__2.t2__p15329_safety_0.smt2 : 804 ms.\n",
      "\n",
      "../../QF_NIA_split/QF_NIA_2_20//20170427-VeryMax/ITS/From_T2__2.t2__p15330_safety_0.smt2 : 1289 ms.\n",
      "\n",
      "../../QF_NIA_split/QF_NIA_2_20//20170427-VeryMax/ITS/From_T2__2.t2__p15332_safety_0.smt2 : 832 ms.\n",
      "\n",
      "../../QF_NIA_split/QF_NIA_2_20//20170427-VeryMax/ITS/From_T2__2.t2__p15334_safety_0.smt2 : 1401 ms.\n",
      "\n",
      "../../QF_NIA_split/QF_NIA_2_20//20170427-VeryMax/ITS/From_T2__2.t2__p15335_safety_0.smt2 : 974 ms.\n",
      "\n",
      "../../QF_NIA_split/QF_NIA_2_20//20170427-VeryMax/ITS/From_T2__2.t2__p15336_safety_0.smt2 : 1358 ms.\n",
      "\n",
      "../../QF_NIA_split/QF_NIA_2_20//20170427-VeryMax/ITS/From_T2__2.t2__p15338_safety_0.smt2 : 737 ms.\n",
      "\n",
      "../../QF_NIA_split/QF_NIA_2_20//20170427-VeryMax/ITS/From_T2__2.t2__p15339_safety_0.smt2 : 1296 ms.\n",
      "\n",
      "['..', '..', 'QF_NIA_split', 'QF_NIA_2_20', '', '20170427-VeryMax', 'ITS', 'From_T2__2.t2__p15339_safety_0.smt2']\n"
     ]
    },
    {
     "name": "stderr",
     "output_type": "stream",
     "text": [
      "\n"
     ]
    },
    {
     "ename": "AttributeError",
     "evalue": "'list' object has no attribute 'split'",
     "output_type": "error",
     "traceback": [
      "\u001b[0;31m---------------------------------------------------------------------------\u001b[0m",
      "\u001b[0;31mAttributeError\u001b[0m                            Traceback (most recent call last)",
      "\u001b[0;32m/tmp/ipykernel_10399/1761537872.py\u001b[0m in \u001b[0;36m<module>\u001b[0;34m\u001b[0m\n\u001b[1;32m     37\u001b[0m                             \u001b[0mresult\u001b[0m \u001b[0;34m=\u001b[0m \u001b[0;34m'unsat'\u001b[0m\u001b[0;34m\u001b[0m\u001b[0;34m\u001b[0m\u001b[0m\n\u001b[1;32m     38\u001b[0m                 \u001b[0mprint\u001b[0m\u001b[0;34m(\u001b[0m\u001b[0minfo\u001b[0m\u001b[0;34m)\u001b[0m\u001b[0;34m\u001b[0m\u001b[0;34m\u001b[0m\u001b[0m\n\u001b[0;32m---> 39\u001b[0;31m                 \u001b[0minfo\u001b[0m \u001b[0;34m=\u001b[0m \u001b[0minfo\u001b[0m\u001b[0;34m.\u001b[0m\u001b[0msplit\u001b[0m\u001b[0;34m(\u001b[0m\u001b[0;34m'/'\u001b[0m\u001b[0;34m)\u001b[0m\u001b[0;34m\u001b[0m\u001b[0;34m\u001b[0m\u001b[0m\n\u001b[0m\u001b[1;32m     40\u001b[0m                 \u001b[0mtime\u001b[0m \u001b[0;34m=\u001b[0m \u001b[0mint\u001b[0m\u001b[0;34m(\u001b[0m\u001b[0minfo\u001b[0m\u001b[0;34m[\u001b[0m\u001b[0;34m-\u001b[0m\u001b[0;36m1\u001b[0m\u001b[0;34m]\u001b[0m\u001b[0;34m.\u001b[0m\u001b[0msplit\u001b[0m\u001b[0;34m(\u001b[0m\u001b[0;34m' : '\u001b[0m\u001b[0;34m)\u001b[0m\u001b[0;34m[\u001b[0m\u001b[0;36m1\u001b[0m\u001b[0;34m]\u001b[0m\u001b[0;34m[\u001b[0m\u001b[0;34m:\u001b[0m\u001b[0;34m-\u001b[0m\u001b[0;36m5\u001b[0m\u001b[0;34m]\u001b[0m\u001b[0;34m)\u001b[0m\u001b[0;34m\u001b[0m\u001b[0;34m\u001b[0m\u001b[0m\n\u001b[1;32m     41\u001b[0m                 \u001b[0minfo\u001b[0m\u001b[0;34m[\u001b[0m\u001b[0;34m-\u001b[0m\u001b[0;36m1\u001b[0m\u001b[0;34m]\u001b[0m \u001b[0;34m=\u001b[0m \u001b[0minfo\u001b[0m\u001b[0;34m[\u001b[0m\u001b[0;34m-\u001b[0m\u001b[0;36m1\u001b[0m\u001b[0;34m]\u001b[0m\u001b[0;34m.\u001b[0m\u001b[0msplit\u001b[0m\u001b[0;34m(\u001b[0m\u001b[0;34m' : '\u001b[0m\u001b[0;34m)\u001b[0m\u001b[0;34m[\u001b[0m\u001b[0;36m0\u001b[0m\u001b[0;34m]\u001b[0m\u001b[0;34m\u001b[0m\u001b[0;34m\u001b[0m\u001b[0m\n",
      "\u001b[0;31mAttributeError\u001b[0m: 'list' object has no attribute 'split'"
     ]
    }
   ],
   "source": [
    "import pandas as pd\n",
    "import os\n",
    "import re\n",
    "from tqdm import tqdm\n",
    "\n",
    "records = pd.read_excel(r\"4.xlsx\", header=[0], index_col = [0])\n",
    "\n",
    "path = \"Data_File/ismt_yices2\"\n",
    "folder_list = os.listdir(path)\n",
    "for filefolder in folder_list:\n",
    "    file_path = path + \"/\" + filefolder\n",
    "    file_list = os.listdir(file_path)\n",
    "    solved = {'AProVE': 0, 'calypto': 0, 'Dartagnan': 0, 'LassoRanker': 0, 'leipzig': 0, 'mcm': 0, 'CInteger': 0, 'ITS': 0, 'SAT14': 0, 'total': 0}\n",
    "    times = {'AProVE': 0, 'calypto': 0, 'Dartagnan': 0, 'LassoRanker': 0, 'leipzig': 0, 'mcm': 0, 'CInteger': 0, 'ITS': 0, 'SAT14': 0, 'total': 0}\n",
    "    for filename in tqdm(file_list, desc = filefolder):\n",
    "        print(filename)\n",
    "        with open(os.path.join(file_path, filename)) as f:\n",
    "            while f.readline():\n",
    "                f.readline()\n",
    "                flag = -1\n",
    "                result = f.readline()\n",
    "                while(result[:2] != 'is' or result[:2] != 'Fi'):\n",
    "                    result = f.readline()\n",
    "                if result[:4] == 'ismt':\n",
    "                    info = f.readline()\n",
    "                    if result[5] == 's':\n",
    "                        result = 'sat'\n",
    "                    elif result[5] == 'u':\n",
    "                        result = 'unsat'\n",
    "                else:\n",
    "                    result = f.readline()\n",
    "                    if result[:2] == '..':\n",
    "                        info = result\n",
    "                        result = 'timeout'\n",
    "                    elif result[:2] == 'fi':\n",
    "                        info = f.readline()\n",
    "                        if result[13] == 's':\n",
    "                            result = 'sat'\n",
    "                        elif result[13] == 'u':\n",
    "                            result = 'unsat'\n",
    "                    elif result[:4] == 'unkn':\n",
    "                        info = f.readline()\n",
    "                        result = 'unknow'\n",
    "                print(info)\n",
    "                info = info.split('/')\n",
    "                time = int(info[-1].split(' : ')[1][:-5])\n",
    "                info[-1] = info[-1].split(' : ')[0]\n",
    "                if result[:3] == 'sat':\n",
    "                    solved['total'] += 1\n",
    "                    times['total'] += time\n",
    "                    if info[4] == '20170427-VeryMax':\n",
    "                        if(len(info) == 5):\n",
    "                            solved['SAT14'] += 1\n",
    "                            times['SAT14'] += time\n",
    "                        else:\n",
    "                            solved[info[5]] += 1\n",
    "                            times[info[5]] += time\n",
    "                    elif info[4] == 'UltimateAutomizer' or info[4] == 'UltimateLassoRanker':\n",
    "                        solved['LassoRanker'] += 1\n",
    "                        times['LassoRanker'] += time\n",
    "                    elif info[4] == '20210219-Dartagnan':\n",
    "                        solved['Dartagnan'] += 1\n",
    "                        times['Dartagnan'] += time\n",
    "                    elif info[4] != '2019-ezsmt':\n",
    "                        solved[info[4]] += 1\n",
    "                        times[info[4]] += time\n",
    "    records.loc[records['name'] == filefolder + '_solved', ['AProVE', 'calypto', 'Dartagnan', 'LassoRanker', 'leipzig', 'mcm', 'CInteger', 'ITS', 'SAT14', 'total']] = [solved['AProVE'], solved['calypto'], solved['Dartagnan'], solved['LassoRanker'], solved['leipzig'], solved['mcm'], solved['CInteger'], solved['ITS'], solved['SAT14'], solved['total']]\n",
    "    records.loc[records['name'] == filefolder + '_time', ['AProVE', 'calypto', 'Dartagnan', 'LassoRanker', 'leipzig', 'mcm', 'CInteger', 'ITS', 'SAT14', 'total']] = [times['AProVE'], times['calypto'], times['Dartagnan'], times['LassoRanker'], times['leipzig'], times['mcm'], times['CInteger'], times['ITS'], times['SAT14'], times['total']]\n",
    "    # print(total)\n",
    "print(\"Waiting...\")\n",
    "records.to_excel('Result/4_1.xlsx')\n",
    "print(\"Done\")    "
   ]
  }
 ],
 "metadata": {
  "interpreter": {
   "hash": "2f394aca7ca06fed1e6064aef884364492d7cdda3614a461e02e6407fc40ba69"
  },
  "kernelspec": {
   "display_name": "Python 3.9.5 ('base')",
   "language": "python",
   "name": "python3"
  },
  "language_info": {
   "codemirror_mode": {
    "name": "ipython",
    "version": 3
   },
   "file_extension": ".py",
   "mimetype": "text/x-python",
   "name": "python",
   "nbconvert_exporter": "python",
   "pygments_lexer": "ipython3",
   "version": "3.9.5"
  },
  "orig_nbformat": 4
 },
 "nbformat": 4,
 "nbformat_minor": 2
}
