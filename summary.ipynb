{
 "cells": [
  {
   "cell_type": "code",
   "execution_count": null,
   "metadata": {},
   "outputs": [],
   "source": [
    "import pandas as pd\n",
    "import os\n",
    "import re\n",
    "\n",
    "records = pd.read_excel(r\"1.xlsx\", header=[0])\n",
    "records "
   ]
  },
  {
   "cell_type": "code",
   "execution_count": 24,
   "metadata": {},
   "outputs": [
    {
     "name": "stderr",
     "output_type": "stream",
     "text": [
      "ismt(c): 100%|██████████| 74/74 [00:00<00:00, 552.26it/s]\n",
      "ismt(m): 100%|██████████| 74/74 [00:00<00:00, 477.43it/s]\n"
     ]
    }
   ],
   "source": [
    "import pandas as pd\n",
    "import os\n",
    "import re\n",
    "from tqdm import tqdm\n",
    "\n",
    "records = pd.read_excel(r\"1.xlsx\", header=[0])\n",
    "path = \"new_Data_File\"\n",
    "folder_list = os.listdir(path)\n",
    "for filefolder in folder_list:\n",
    "    file_path = path + \"/\" + filefolder\n",
    "    file_list = os.listdir(file_path)\n",
    "    solved = {'AProVE': 0, 'calypto': 0, 'Dartagnan': 0, 'LassoRanker': 0, 'leipzig': 0, 'mcm': 0, 'CInteger': 0, 'ITS': 0, 'SAT14': 0, 'total': 0}\n",
    "    times = {'AProVE': 0, 'calypto': 0, 'Dartagnan': 0, 'LassoRanker': 0, 'leipzig': 0, 'mcm': 0, 'CInteger': 0, 'ITS': 0, 'SAT14': 0, 'total': 0}\n",
    "    for filename in tqdm(file_list, desc = filefolder):\n",
    "        with open(os.path.join(file_path, filename)) as f:\n",
    "            while f.readline():\n",
    "                result = f.readline()\n",
    "                if result[:2] == '..':\n",
    "                    info = result\n",
    "                    result = 'none'\n",
    "                else:\n",
    "                    info = f.readline()\n",
    "                    while info[:17] != '../New_SAT_split/':\n",
    "                        result = info\n",
    "                        info = f.readline()\n",
    "                    if result[:2] == 're':\n",
    "                        result = 'sat'\n",
    "                    elif result[:2] == 'Nu':\n",
    "                        result = 'timeout'\n",
    "                info = info.split('/')\n",
    "                if result[:3] == 'sat':\n",
    "                    time = int(info[-1].split(' : ')[1][:-5])\n",
    "                    solved['total'] += 1\n",
    "                    times['total'] += time\n",
    "                    if info[3] == '20170427-VeryMax':\n",
    "                        if(len(info) == 5):\n",
    "                            solved['SAT14'] += 1\n",
    "                            times['SAT14'] += time\n",
    "                        else:\n",
    "                            solved[info[4]] += 1\n",
    "                            times[info[4]] += time\n",
    "                    elif info[3] == 'UltimateAutomizer' or info[3] == 'UltimateLassoRanker':\n",
    "                        solved['LassoRanker'] += 1\n",
    "                        times['LassoRanker'] += time\n",
    "                    elif info[3] == '20210219-Dartagnan':\n",
    "                        solved['Dartagnan'] += 1\n",
    "                        times['Dartagnan'] += time\n",
    "                    else:\n",
    "                        solved[info[3]] += 1\n",
    "                        times[info[3]] += time\n",
    "    records.loc[records['name'] == filefolder + '_solved', ['AProVE', 'calypto', 'Dartagnan', 'LassoRanker', 'leipzig', 'mcm', 'CInteger', 'ITS', 'SAT14', 'total']] = [solved['AProVE'], solved['calypto'], solved['Dartagnan'], solved['LassoRanker'], solved['leipzig'], solved['mcm'], solved['CInteger'], solved['ITS'], solved['SAT14'], solved['total']]\n",
    "    records.loc[records['name'] == filefolder + '_time', ['AProVE', 'calypto', 'Dartagnan', 'LassoRanker', 'leipzig', 'mcm', 'CInteger', 'ITS', 'SAT14', 'total']] = [times['AProVE'], times['calypto'], times['Dartagnan'], times['LassoRanker'], times['leipzig'], times['mcm'], times['CInteger'], times['ITS'], times['SAT14'], times['total']]       "
   ]
  },
  {
   "cell_type": "code",
   "execution_count": 7,
   "metadata": {},
   "outputs": [
    {
     "name": "stderr",
     "output_type": "stream",
     "text": [
      "CVC5: 100%|██████████| 49/49 [00:00<00:00, 199.19it/s]\n",
      "MATHSAT: 100%|██████████| 49/49 [00:00<00:00, 310.13it/s]\n",
      "SMT-RAT: 100%|██████████| 49/49 [00:00<00:00, 88.22it/s] \n",
      "YICES2: 100%|██████████| 49/49 [00:00<00:00, 231.14it/s]\n"
     ]
    }
   ],
   "source": [
    "import pandas as pd\n",
    "import os\n",
    "import re\n",
    "from tqdm import tqdm\n",
    "\n",
    "records = pd.read_excel(r\"1.xlsx\", header=[0])\n",
    "path = \"new_Data_File\"\n",
    "folder_list = os.listdir(path)\n",
    "for filefolder in folder_list:\n",
    "    file_path = path + \"/\" + filefolder\n",
    "    file_list = os.listdir(file_path)\n",
    "    solved = {'AProVE': 0, 'calypto': 0, 'Dartagnan': 0, 'LassoRanker': 0, 'leipzig': 0, 'mcm': 0, 'CInteger': 0, 'ITS': 0, 'SAT14': 0, 'total': 0}\n",
    "    times = {'AProVE': 0, 'calypto': 0, 'Dartagnan': 0, 'LassoRanker': 0, 'leipzig': 0, 'mcm': 0, 'CInteger': 0, 'ITS': 0, 'SAT14': 0, 'total': 0}\n",
    "    for filename in tqdm(file_list, desc = filefolder):\n",
    "        with open(os.path.join(file_path, filename)) as f:\n",
    "            while f.readline():\n",
    "                result = f.readline()\n",
    "                if result[:2] == '..':\n",
    "                    info = result\n",
    "                    result = 'none'\n",
    "                else:\n",
    "                    if result[:2] == './' or result[:2] == 'cv' or result[:2] == 'ca':\n",
    "                        result = 'timeout'\n",
    "                    elif result[:2] == 'tc':\n",
    "                        result = 'leak'\n",
    "                    info = f.readline()\n",
    "                    if info[:2] == '(e':\n",
    "                        break\n",
    "                    while info[:2] == './' or info[:2] == 'tc' or info[:2] == 'cv' or info[:2] == 'ca':\n",
    "                        info = f.readline()\n",
    "                    if info[:2] != '..':\n",
    "                        result = info\n",
    "                        info = f.readline()\n",
    "                info = info.split('/')\n",
    "                if result[:3] == 'sat':\n",
    "                    time = int(info[-1].split(' : ')[1][:-5])\n",
    "                    solved['total'] += 1\n",
    "                    times['total'] += time\n",
    "                    if info[4] == '20170427-VeryMax':\n",
    "                        if(len(info) == 5):\n",
    "                            solved['SAT14'] += 1\n",
    "                            times['SAT14'] += time\n",
    "                        else:\n",
    "                            solved[info[5]] += 1\n",
    "                            times[info[5]] += time\n",
    "                    elif info[4] == 'UltimateAutomizer' or info[4] == 'UltimateLassoRanker':\n",
    "                        solved['LassoRanker'] += 1\n",
    "                        times['LassoRanker'] += time\n",
    "                    elif info[4] == '20210219-Dartagnan':\n",
    "                        solved['Dartagnan'] += 1\n",
    "                        times['Dartagnan'] += time\n",
    "                    elif info[4] != '2019-ezsmt':\n",
    "                        solved[info[4]] += 1\n",
    "                        times[info[4]] += time\n",
    "    records.loc[records['name'] == filefolder + '_solved', ['AProVE', 'calypto', 'Dartagnan', 'LassoRanker', 'leipzig', 'mcm', 'CInteger', 'ITS', 'SAT14', 'total']] = [solved['AProVE'], solved['calypto'], solved['Dartagnan'], solved['LassoRanker'], solved['leipzig'], solved['mcm'], solved['CInteger'], solved['ITS'], solved['SAT14'], solved['total']]\n",
    "    records.loc[records['name'] == filefolder + '_time', ['AProVE', 'calypto', 'Dartagnan', 'LassoRanker', 'leipzig', 'mcm', 'CInteger', 'ITS', 'SAT14', 'total']] = [times['AProVE'], times['calypto'], times['Dartagnan'], times['LassoRanker'], times['leipzig'], times['mcm'], times['CInteger'], times['ITS'], times['SAT14'], times['total']]     "
   ]
  },
  {
   "cell_type": "code",
   "execution_count": 34,
   "metadata": {},
   "outputs": [
    {
     "name": "stderr",
     "output_type": "stream",
     "text": [
      "RTX: 100%|██████████| 12/12 [00:00<00:00, 179.10it/s]\n",
      "STC: 100%|██████████| 16/16 [00:00<00:00, 109.59it/s]\n"
     ]
    }
   ],
   "source": [
    "import pandas as pd\n",
    "import os\n",
    "import re\n",
    "from tqdm import tqdm\n",
    "\n",
    "records = pd.read_excel(r\"3.xlsx\", header=[0])\n",
    "path = \"RTX\"\n",
    "folder_list = os.listdir(path)\n",
    "for filefolder in folder_list:\n",
    "    file_path = path + \"/\" + filefolder\n",
    "    file_list = os.listdir(file_path)\n",
    "    for filename in tqdm(file_list, desc = filefolder):\n",
    "        with open(os.path.join(file_path, filename)) as f:\n",
    "            solved = 0\n",
    "            time = 0\n",
    "            flag = False\n",
    "            f.readline()\n",
    "            while f.readline():\n",
    "                result = f.readline()\n",
    "                if result[:2] == '..':\n",
    "                    info = result\n",
    "                else:\n",
    "                    info = f.readline()\n",
    "                    cnt = 0\n",
    "                    while info[:3] != '../':\n",
    "                        if info[:3] == 'sat':\n",
    "                            result = 'sat'\n",
    "                        info = f.readline()\n",
    "                        cnt += 1\n",
    "                        if cnt > 100:\n",
    "                            flag = True\n",
    "                            break\n",
    "                if flag:\n",
    "                    break\n",
    "                info = info.split('/')\n",
    "                if result[:3] == 'sat':\n",
    "                    time += int(info[-1].split(' : ')[1][:-5])\n",
    "                    solved += 1\n",
    "        records.loc[records['name'] == filename[:-4] + '_solved', [filefolder]] = solved\n",
    "        records.loc[records['name'] == filename[:-4] + '_time', [filefolder]] = time"
   ]
  },
  {
   "cell_type": "code",
   "execution_count": 35,
   "metadata": {},
   "outputs": [
    {
     "name": "stdout",
     "output_type": "stream",
     "text": [
      "Waiting...\n",
      "Done\n"
     ]
    }
   ],
   "source": [
    "print(\"Waiting...\")\n",
    "records.to_excel('Result/3.xlsx')\n",
    "print(\"Done\")"
   ]
  }
 ],
 "metadata": {
  "interpreter": {
   "hash": "b3ba2566441a7c06988d0923437866b63cedc61552a5af99d1f4fb67d367b25f"
  },
  "kernelspec": {
   "display_name": "Python 3.8.5 64-bit ('base': conda)",
   "language": "python",
   "name": "python3"
  },
  "language_info": {
   "codemirror_mode": {
    "name": "ipython",
    "version": 3
   },
   "file_extension": ".py",
   "mimetype": "text/x-python",
   "name": "python",
   "nbconvert_exporter": "python",
   "pygments_lexer": "ipython3",
   "version": "3.8.5"
  },
  "orig_nbformat": 4
 },
 "nbformat": 4,
 "nbformat_minor": 2
}
