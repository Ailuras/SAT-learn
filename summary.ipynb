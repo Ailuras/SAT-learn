{
 "cells": [
  {
   "cell_type": "code",
   "execution_count": null,
   "metadata": {},
   "outputs": [],
   "source": [
    "import pandas as pd\n",
    "import os\n",
    "import re\n",
    "\n",
    "records = pd.read_excel(r\"1.xlsx\", header=[0])\n",
    "records "
   ]
  },
  {
   "cell_type": "code",
   "execution_count": 6,
   "metadata": {},
   "outputs": [
    {
     "name": "stderr",
     "output_type": "stream",
     "text": [
      "APROVE: 100%|██████████| 13/13 [00:00<00:00, 1256.16it/s]"
     ]
    },
    {
     "name": "stdout",
     "output_type": "stream",
     "text": [
      "Waiting...\n",
      "Done\n"
     ]
    },
    {
     "name": "stderr",
     "output_type": "stream",
     "text": [
      "\n"
     ]
    }
   ],
   "source": [
    "import pandas as pd\n",
    "import os\n",
    "import re\n",
    "from tqdm import tqdm\n",
    "\n",
    "records = pd.read_excel(r\"1.xlsx\", header=[0])\n",
    "\n",
    "path = \"temp\"\n",
    "folder_list = os.listdir(path)\n",
    "for filefolder in folder_list:\n",
    "    file_path = path + \"/\" + filefolder\n",
    "    file_list = os.listdir(file_path)\n",
    "    solved = {'AProVE': 0, 'calypto': 0, 'Dartagnan': 0, 'LassoRanker': 0, 'leipzig': 0, 'mcm': 0, 'CInteger': 0, 'ITS': 0, 'SAT14': 0, 'total': 0}\n",
    "    times = {'AProVE': 0, 'calypto': 0, 'Dartagnan': 0, 'LassoRanker': 0, 'leipzig': 0, 'mcm': 0, 'CInteger': 0, 'ITS': 0, 'SAT14': 0, 'total': 0}\n",
    "    for filename in tqdm(file_list, desc = filefolder):\n",
    "        with open(os.path.join(file_path, filename)) as f:\n",
    "            flag = False\n",
    "            while f.readline():\n",
    "                result = f.readline()\n",
    "                if result[:2] == '..':\n",
    "                    info = result\n",
    "                    result = 'none'\n",
    "                else:\n",
    "                    info = f.readline()\n",
    "                    cnt = 0\n",
    "                    while info[:3] != '../':\n",
    "                        if info[:3] == 'sat':\n",
    "                            result = 'sat'\n",
    "                        info = f.readline()\n",
    "                        cnt += 1\n",
    "                        if cnt > 100:\n",
    "                            flag = True\n",
    "                            break\n",
    "                    if result[:2] == 're':\n",
    "                        result = 'sat'\n",
    "                    elif result[:2] == 'Nu':\n",
    "                        result = 'timeout'\n",
    "                if flag:\n",
    "                    break\n",
    "                info = info.split('/')                    \n",
    "                # print(filename,': ', result)\n",
    "                if result[:3] == 'sat':\n",
    "                    time = int(info[-1].split(' : ')[1][:-5])\n",
    "                    solved['total'] += 1\n",
    "                    times['total'] += time\n",
    "                    if info[3] == '20170427-VeryMax':\n",
    "                        if(len(info) == 5):\n",
    "                            solved['SAT14'] += 1\n",
    "                            times['SAT14'] += time\n",
    "                        else:\n",
    "                            solved[info[4]] += 1\n",
    "                            times[info[4]] += time\n",
    "                    elif info[3] == 'UltimateAutomizer' or info[3] == 'UltimateLassoRanker':\n",
    "                        solved['LassoRanker'] += 1\n",
    "                        times['LassoRanker'] += time\n",
    "                    elif info[3] == '20210219-Dartagnan':\n",
    "                        solved['Dartagnan'] += 1\n",
    "                        times['Dartagnan'] += time\n",
    "                    else:\n",
    "                        solved[info[3]] += 1\n",
    "                        times[info[3]] += time\n",
    "    records.loc[records['name'] == filefolder + '_solved', ['AProVE', 'calypto', 'Dartagnan', 'LassoRanker', 'leipzig', 'mcm', 'CInteger', 'ITS', 'SAT14', 'total']] = [solved['AProVE'], solved['calypto'], solved['Dartagnan'], solved['LassoRanker'], solved['leipzig'], solved['mcm'], solved['CInteger'], solved['ITS'], solved['SAT14'], solved['total']]\n",
    "    records.loc[records['name'] == filefolder + '_time', ['AProVE', 'calypto', 'Dartagnan', 'LassoRanker', 'leipzig', 'mcm', 'CInteger', 'ITS', 'SAT14', 'total']] = [times['AProVE'], times['calypto'], times['Dartagnan'], times['LassoRanker'], times['leipzig'], times['mcm'], times['CInteger'], times['ITS'], times['SAT14'], times['total']]\n",
    "\n",
    "print(\"Waiting...\")\n",
    "records.to_excel('Result/1_1.xlsx')\n",
    "print(\"Done\")    "
   ]
  },
  {
   "cell_type": "code",
   "execution_count": 9,
   "metadata": {},
   "outputs": [
    {
     "name": "stderr",
     "output_type": "stream",
     "text": [
      "APROVE:  15%|█▌        | 2/13 [00:00<00:00, 249.95it/s]"
     ]
    },
    {
     "name": "stdout",
     "output_type": "stream",
     "text": [
      "qfnia_11.log :  ['+ |init_(select (select #memory_int gcd_~y1.base) gcd_~y1.offset)| = 3\\n']\n"
     ]
    },
    {
     "name": "stderr",
     "output_type": "stream",
     "text": [
      "\n"
     ]
    },
    {
     "ename": "IndexError",
     "evalue": "list index out of range",
     "output_type": "error",
     "traceback": [
      "\u001b[1;31m---------------------------------------------------------------------------\u001b[0m",
      "\u001b[1;31mIndexError\u001b[0m                                Traceback (most recent call last)",
      "\u001b[1;32m<ipython-input-9-e01ba624e1e2>\u001b[0m in \u001b[0;36m<module>\u001b[1;34m\u001b[0m\n\u001b[0;32m     42\u001b[0m                 \u001b[0minfo\u001b[0m \u001b[1;33m=\u001b[0m \u001b[0minfo\u001b[0m\u001b[1;33m.\u001b[0m\u001b[0msplit\u001b[0m\u001b[1;33m(\u001b[0m\u001b[1;34m'/'\u001b[0m\u001b[1;33m)\u001b[0m\u001b[1;33m\u001b[0m\u001b[1;33m\u001b[0m\u001b[0m\n\u001b[0;32m     43\u001b[0m                 \u001b[0mprint\u001b[0m\u001b[1;33m(\u001b[0m\u001b[0mfilename\u001b[0m\u001b[1;33m,\u001b[0m\u001b[1;34m': '\u001b[0m\u001b[1;33m,\u001b[0m \u001b[0minfo\u001b[0m\u001b[1;33m)\u001b[0m\u001b[1;33m\u001b[0m\u001b[1;33m\u001b[0m\u001b[0m\n\u001b[1;32m---> 44\u001b[1;33m                 \u001b[0mtime\u001b[0m \u001b[1;33m=\u001b[0m \u001b[0mint\u001b[0m\u001b[1;33m(\u001b[0m\u001b[0minfo\u001b[0m\u001b[1;33m[\u001b[0m\u001b[1;33m-\u001b[0m\u001b[1;36m1\u001b[0m\u001b[1;33m]\u001b[0m\u001b[1;33m.\u001b[0m\u001b[0msplit\u001b[0m\u001b[1;33m(\u001b[0m\u001b[1;34m' : '\u001b[0m\u001b[1;33m)\u001b[0m\u001b[1;33m[\u001b[0m\u001b[1;36m1\u001b[0m\u001b[1;33m]\u001b[0m\u001b[1;33m[\u001b[0m\u001b[1;33m:\u001b[0m\u001b[1;33m-\u001b[0m\u001b[1;36m5\u001b[0m\u001b[1;33m]\u001b[0m\u001b[1;33m)\u001b[0m\u001b[1;33m\u001b[0m\u001b[1;33m\u001b[0m\u001b[0m\n\u001b[0m\u001b[0;32m     45\u001b[0m                 \u001b[0minfo\u001b[0m\u001b[1;33m[\u001b[0m\u001b[1;33m-\u001b[0m\u001b[1;36m1\u001b[0m\u001b[1;33m]\u001b[0m \u001b[1;33m=\u001b[0m \u001b[0minfo\u001b[0m\u001b[1;33m[\u001b[0m\u001b[1;33m-\u001b[0m\u001b[1;36m1\u001b[0m\u001b[1;33m]\u001b[0m\u001b[1;33m.\u001b[0m\u001b[0msplit\u001b[0m\u001b[1;33m(\u001b[0m\u001b[1;34m' : '\u001b[0m\u001b[1;33m)\u001b[0m\u001b[1;33m[\u001b[0m\u001b[1;36m0\u001b[0m\u001b[1;33m]\u001b[0m\u001b[1;33m\u001b[0m\u001b[1;33m\u001b[0m\u001b[0m\n\u001b[0;32m     46\u001b[0m                 \u001b[0mprint\u001b[0m\u001b[1;33m(\u001b[0m\u001b[0minfo\u001b[0m\u001b[1;33m)\u001b[0m\u001b[1;33m\u001b[0m\u001b[1;33m\u001b[0m\u001b[0m\n",
      "\u001b[1;31mIndexError\u001b[0m: list index out of range"
     ]
    }
   ],
   "source": [
    "import pandas as pd\n",
    "import os\n",
    "import re\n",
    "from tqdm import tqdm\n",
    "\n",
    "records = pd.read_excel(r\"1.xlsx\", header=[0])\n",
    "# records2 = pd.read_excel(r\"Result/records_ismt_new.xlsx\", header=[0])\n",
    "\n",
    "path = \"temp\"\n",
    "\n",
    "folder_list = os.listdir(path)\n",
    "for filefolder in folder_list:\n",
    "    file_path = path + \"/\" + filefolder\n",
    "    file_list = os.listdir(file_path)\n",
    "    solved = {'AProVE': 0, 'calypto': 0, 'Dartagnan': 0, 'LassoRanker': 0, 'leipzig': 0, 'mcm': 0, 'CInteger': 0, 'ITS': 0, 'SAT14': 0, 'total': 0}\n",
    "    times = {'AProVE': 0, 'calypto': 0, 'Dartagnan': 0, 'LassoRanker': 0, 'leipzig': 0, 'mcm': 0, 'CInteger': 0, 'ITS': 0, 'SAT14': 0, 'total': 0}\n",
    "    for filename in tqdm(file_list, desc = filefolder):\n",
    "        with open(os.path.join(file_path, filename)) as f:\n",
    "            while f.readline():\n",
    "                result = f.readline()\n",
    "                if result[:2] == '..':\n",
    "                    info = result\n",
    "                    result = 'none'\n",
    "                elif result[:2] == 'ER':\n",
    "                    info = f.readline()\n",
    "                    while info[:2] != '..':\n",
    "                        info = f.readline()\n",
    "                    result = 'ERROR'\n",
    "                else:\n",
    "                    if result[:2] == './' or result[:2] == 'cv' or result[:2] == 'ca':\n",
    "                        result = 'timeout'\n",
    "                    elif result[:2] == 'tc':\n",
    "                        result = 'leak'\n",
    "                    info = f.readline()\n",
    "                    if info[:2] == '(e':\n",
    "                        break\n",
    "                    while info[:2] == './' or info[:2] == 'tc' or info[:2] == 'cv' or info[:2] == 'ca':\n",
    "                        info = f.readline()\n",
    "                    if info[:2] != '..':\n",
    "                        result = info\n",
    "                        info = f.readline()\n",
    "                info = info.split('/')\n",
    "                print(filename,': ', info)\n",
    "                time = int(info[-1].split(' : ')[1][:-5])\n",
    "                info[-1] = info[-1].split(' : ')[0]\n",
    "                print(info)\n",
    "                # if result[:3] == 'sat' and len(records2.loc[records2['filename'] == '/'.join(info[4:])]) == 1:\n",
    "                if result[:3] == 'sat':\n",
    "                    solved['total'] += 1\n",
    "                    times['total'] += time\n",
    "                    if info[4] == '20170427-VeryMax':\n",
    "                        if(len(info) == 5):\n",
    "                            solved['SAT14'] += 1\n",
    "                            times['SAT14'] += time\n",
    "                        else:\n",
    "                            solved[info[5]] += 1\n",
    "                            times[info[5]] += time\n",
    "                    elif info[4] == 'UltimateAutomizer' or info[4] == 'UltimateLassoRanker':\n",
    "                        solved['LassoRanker'] += 1\n",
    "                        times['LassoRanker'] += time\n",
    "                    elif info[4] == '20210219-Dartagnan':\n",
    "                        solved['Dartagnan'] += 1\n",
    "                        times['Dartagnan'] += time\n",
    "                    elif info[4] != '2019-ezsmt':\n",
    "                        solved[info[4]] += 1\n",
    "                        times[info[4]] += time\n",
    "    records.loc[records['name'] == filefolder + '_solved', ['AProVE', 'calypto', 'Dartagnan', 'LassoRanker', 'leipzig', 'mcm', 'CInteger', 'ITS', 'SAT14', 'total']] = [solved['AProVE'], solved['calypto'], solved['Dartagnan'], solved['LassoRanker'], solved['leipzig'], solved['mcm'], solved['CInteger'], solved['ITS'], solved['SAT14'], solved['total']]\n",
    "    records.loc[records['name'] == filefolder + '_time', ['AProVE', 'calypto', 'Dartagnan', 'LassoRanker', 'leipzig', 'mcm', 'CInteger', 'ITS', 'SAT14', 'total']] = [times['AProVE'], times['calypto'], times['Dartagnan'], times['LassoRanker'], times['leipzig'], times['mcm'], times['CInteger'], times['ITS'], times['SAT14'], times['total']]\n",
    "\n",
    "print(\"Waiting...\")\n",
    "records.to_excel('Result/1_1.xlsx')\n",
    "print(\"Done\")"
   ]
  },
  {
   "cell_type": "code",
   "execution_count": null,
   "metadata": {},
   "outputs": [],
   "source": [
    "import pandas as pd\n",
    "import os\n",
    "import re\n",
    "from tqdm import tqdm\n",
    "\n",
    "records = pd.read_excel(r\"3.xlsx\", header=[0])\n",
    "path = \"new_Data_File2\"\n",
    "folder_list = os.listdir(path)\n",
    "for filefolder in folder_list:\n",
    "    file_path = path + \"/\" + filefolder\n",
    "    file_list = os.listdir(file_path)\n",
    "    for filename in tqdm(file_list, desc = filefolder):\n",
    "        with open(os.path.join(file_path, filename)) as f:\n",
    "            solved = 0\n",
    "            time = 0\n",
    "            flag = False\n",
    "            f.readline()\n",
    "            while f.readline():\n",
    "                result = f.readline()\n",
    "                if result[:2] == '..':\n",
    "                    info = result\n",
    "                else:\n",
    "                    info = f.readline()\n",
    "                    cnt = 0\n",
    "                    while info[:3] != '../':\n",
    "                        if info[:3] == 'sat':\n",
    "                            result = 'sat'\n",
    "                        info = f.readline()\n",
    "                        cnt += 1\n",
    "                        if cnt > 100:\n",
    "                            flag = True\n",
    "                            break\n",
    "                if flag:\n",
    "                    break\n",
    "                info = info.split('/')\n",
    "                if result[:3] == 'sat':\n",
    "                    time += int(info[-1].split(' : ')[1][:-5])\n",
    "                    solved += 1\n",
    "        records.loc[records['name'] == filename[:-4] + '_solved', [filefolder]] = solved\n",
    "        records.loc[records['name'] == filename[:-4] + '_time', [filefolder]] = time"
   ]
  },
  {
   "cell_type": "code",
   "execution_count": null,
   "metadata": {},
   "outputs": [],
   "source": [
    "print(\"Waiting...\")\n",
    "records.to_excel('Result/3.xlsx')\n",
    "print(\"Done\")"
   ]
  }
 ],
 "metadata": {
  "interpreter": {
   "hash": "b3ba2566441a7c06988d0923437866b63cedc61552a5af99d1f4fb67d367b25f"
  },
  "kernelspec": {
   "display_name": "Python 3.8.5 64-bit ('base': conda)",
   "language": "python",
   "name": "python3"
  },
  "language_info": {
   "codemirror_mode": {
    "name": "ipython",
    "version": 3
   },
   "file_extension": ".py",
   "mimetype": "text/x-python",
   "name": "python",
   "nbconvert_exporter": "python",
   "pygments_lexer": "ipython3",
   "version": "3.8.5"
  },
  "orig_nbformat": 4
 },
 "nbformat": 4,
 "nbformat_minor": 2
}
