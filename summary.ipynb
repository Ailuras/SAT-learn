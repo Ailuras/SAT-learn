{
 "cells": [
  {
   "cell_type": "markdown",
   "metadata": {},
   "source": [
    "z3 + ismt"
   ]
  },
  {
   "cell_type": "code",
   "execution_count": 10,
   "metadata": {},
   "outputs": [
    {
     "name": "stderr",
     "output_type": "stream",
     "text": [
      "ismt_c_p: 100%|██████████| 75/75 [00:00<00:00, 584.73it/s]\n",
      "cvc5: 100%|██████████| 75/75 [00:00<00:00, 90.77it/s]\n",
      "ismt_c_p_e: 100%|██████████| 75/75 [00:00<00:00, 820.40it/s]\n",
      "ismt_m_p_d_e: 100%|██████████| 75/75 [00:00<00:00, 826.44it/s]\n",
      "z3_pn: 100%|██████████| 75/75 [00:00<00:00, 2502.39it/s]\n",
      "z3_b: 100%|██████████| 75/75 [00:00<00:00, 1026.44it/s]\n",
      "yices2: 100%|██████████| 75/75 [00:00<00:00, 965.26it/s]\n",
      "z3_4_8_13: 0it [00:00, ?it/s]\n",
      "ismt_c_p_e_359: 100%|██████████| 75/75 [00:00<00:00, 793.31it/s]\n",
      "ismt_k_p_d_e_359: 100%|██████████| 75/75 [00:00<00:00, 846.08it/s]\n",
      "z3_4_8_14: 0it [00:00, ?it/s]\n",
      "cvc5_a: 100%|██████████| 75/75 [00:01<00:00, 52.69it/s]\n",
      "ismt_k_p_d_e: 100%|██████████| 75/75 [00:00<00:00, 491.39it/s]\n",
      "cvc5_r: 100%|██████████| 43/43 [00:00<00:00, 1002.90it/s]\n",
      "z3_pb: 100%|██████████| 75/75 [00:00<00:00, 1158.06it/s]\n",
      "z3: 100%|██████████| 75/75 [00:00<00:00, 912.63it/s]\n",
      "ismt_c_p_d_e: 100%|██████████| 75/75 [00:00<00:00, 782.04it/s]\n",
      "ismt_c: 100%|██████████| 74/74 [00:00<00:00, 640.49it/s]\n",
      "ismt_c_p_d_e_359: 100%|██████████| 75/75 [00:00<00:00, 581.55it/s]\n",
      "z3_n: 100%|██████████| 75/75 [00:00<00:00, 2195.60it/s]\n",
      "ismt_c_p_d: 100%|██████████| 75/75 [00:00<00:00, 764.13it/s]\n",
      "aprove: 100%|██████████| 58/58 [00:01<00:00, 42.95it/s]\n",
      "cvc5_b: 100%|██████████| 75/75 [00:01<00:00, 59.22it/s]"
     ]
    },
    {
     "name": "stdout",
     "output_type": "stream",
     "text": [
      "Waiting...\n",
      "Done\n"
     ]
    },
    {
     "name": "stderr",
     "output_type": "stream",
     "text": [
      "\n"
     ]
    }
   ],
   "source": [
    "import pandas as pd\n",
    "import os\n",
    "import re\n",
    "from tqdm import tqdm\n",
    "\n",
    "records = pd.read_excel(r\"1.xlsx\", header=[0], index_col = [0])\n",
    "\n",
    "path = \"temp\"\n",
    "folder_list = os.listdir(path)\n",
    "for filefolder in folder_list:\n",
    "    total = 0\n",
    "    file_path = path + \"/\" + filefolder + '/2400'\n",
    "    file_list = os.listdir(file_path)\n",
    "    solved = {'AProVE': 0, 'calypto': 0, 'Dartagnan': 0, 'LassoRanker': 0, 'leipzig': 0, 'mcm': 0, 'CInteger': 0, 'ITS': 0, 'SAT14': 0, 'total': 0}\n",
    "    times = {'AProVE': 0, 'calypto': 0, 'Dartagnan': 0, 'LassoRanker': 0, 'leipzig': 0, 'mcm': 0, 'CInteger': 0, 'ITS': 0, 'SAT14': 0, 'total': 0}\n",
    "    for filename in tqdm(file_list, desc = filefolder):\n",
    "    # for filename in file_list:\n",
    "        with open(os.path.join(file_path, filename)) as f:\n",
    "            flag = False\n",
    "            while f.readline():\n",
    "                result = f.readline()\n",
    "                if result[:2] == '..':\n",
    "                    info = result\n",
    "                    result = 'none'\n",
    "                else:\n",
    "                    info = f.readline()\n",
    "                    cnt = 0\n",
    "                    while info[:3] != '../':\n",
    "                        if info[:3] == 'sat':\n",
    "                            result = 'sat'\n",
    "                        info = f.readline()\n",
    "                        cnt += 1\n",
    "                        if cnt > 10000:\n",
    "                            flag = True\n",
    "                            break\n",
    "                if flag:\n",
    "                    break\n",
    "                # total += 1\n",
    "                info = info.split('/')                    \n",
    "                # print(filename, result)\n",
    "                if result[:3] == 'sat':\n",
    "                    time = int(info[-1].split(' : ')[1][:-5])\n",
    "                    solved['total'] += 1\n",
    "                    times['total'] += time\n",
    "                    if info[3] == '20170427-VeryMax':\n",
    "                        if(len(info) == 5):\n",
    "                            solved['SAT14'] += 1\n",
    "                            times['SAT14'] += time\n",
    "                        else:\n",
    "                            solved[info[4]] += 1\n",
    "                            times[info[4]] += time\n",
    "                    elif info[3] == 'UltimateAutomizer' or info[3] == 'UltimateLassoRanker':\n",
    "                        solved['LassoRanker'] += 1\n",
    "                        times['LassoRanker'] += time\n",
    "                    elif info[3] == '20210219-Dartagnan':\n",
    "                        solved['Dartagnan'] += 1\n",
    "                        times['Dartagnan'] += time\n",
    "                    else:\n",
    "                        solved[info[3]] += 1\n",
    "                        times[info[3]] += time\n",
    "    records.loc[records['name'] == filefolder + '_solved', ['AProVE', 'calypto', 'Dartagnan', 'LassoRanker', 'leipzig', 'mcm', 'CInteger', 'ITS', 'SAT14', 'total']] = [solved['AProVE'], solved['calypto'], solved['Dartagnan'], solved['LassoRanker'], solved['leipzig'], solved['mcm'], solved['CInteger'], solved['ITS'], solved['SAT14'], solved['total']]\n",
    "    records.loc[records['name'] == filefolder + '_time', ['AProVE', 'calypto', 'Dartagnan', 'LassoRanker', 'leipzig', 'mcm', 'CInteger', 'ITS', 'SAT14', 'total']] = [times['AProVE'], times['calypto'], times['Dartagnan'], times['LassoRanker'], times['leipzig'], times['mcm'], times['CInteger'], times['ITS'], times['SAT14'], times['total']]\n",
    "    # print(total)\n",
    "print(\"Waiting...\")\n",
    "records.to_excel('Result/1_1.xlsx')\n",
    "print(\"Done\")    "
   ]
  },
  {
   "cell_type": "markdown",
   "metadata": {},
   "source": [
    "smtrat + mathsat"
   ]
  },
  {
   "cell_type": "code",
   "execution_count": 14,
   "metadata": {},
   "outputs": [
    {
     "name": "stderr",
     "output_type": "stream",
     "text": [
      "mathsat: 100%|██████████| 49/49 [00:00<00:00, 362.92it/s]\n"
     ]
    },
    {
     "name": "stdout",
     "output_type": "stream",
     "text": [
      "Waiting...\n",
      "Done\n"
     ]
    }
   ],
   "source": [
    "import pandas as pd\n",
    "import os\n",
    "import re\n",
    "from tqdm import tqdm\n",
    "\n",
    "records = pd.read_excel(r\"Result/1_1.xlsx\", header=[0], index_col = [0])\n",
    "\n",
    "path = \"temp\"\n",
    "\n",
    "folder_list = os.listdir(path)\n",
    "for filefolder in folder_list:\n",
    "    file_path = path + \"/\" + filefolder + '/2400'\n",
    "    file_list = os.listdir(file_path)\n",
    "    solved = {'AProVE': 0, 'calypto': 0, 'Dartagnan': 0, 'LassoRanker': 0, 'leipzig': 0, 'mcm': 0, 'CInteger': 0, 'ITS': 0, 'SAT14': 0, 'total': 0}\n",
    "    times = {'AProVE': 0, 'calypto': 0, 'Dartagnan': 0, 'LassoRanker': 0, 'leipzig': 0, 'mcm': 0, 'CInteger': 0, 'ITS': 0, 'SAT14': 0, 'total': 0}\n",
    "    for filename in tqdm(file_list, desc = filefolder):\n",
    "        with open(os.path.join(file_path, filename)) as f:\n",
    "            while f.readline():\n",
    "                result = f.readline()\n",
    "                if result[:2] == '..':\n",
    "                    info = result\n",
    "                    result = 'none'\n",
    "                elif result[:2] == 'ER':\n",
    "                    info = f.readline()\n",
    "                    while info[:2] != '..':\n",
    "                        info = f.readline()\n",
    "                    result = 'ERROR'\n",
    "                else:\n",
    "                    if result[:2] == './' or result[:2] == 'cv' or result[:2] == 'ca':\n",
    "                        result = 'timeout'\n",
    "                    elif result[:2] == 'tc':\n",
    "                        result = 'leak'\n",
    "                    info = f.readline()\n",
    "                    if info[:2] == '(e':\n",
    "                        break\n",
    "                    while info[:2] == './' or info[:2] == 'tc' or info[:2] == 'cv' or info[:2] == 'ca':\n",
    "                        info = f.readline()\n",
    "                    if info[:2] != '..':\n",
    "                        result = info\n",
    "                        info = f.readline()\n",
    "                info = info.split('/')\n",
    "                time = int(info[-1].split(' : ')[1][:-5])\n",
    "                info[-1] = info[-1].split(' : ')[0]\n",
    "                if result[:3] == 'sat':\n",
    "                    solved['total'] += 1\n",
    "                    times['total'] += time\n",
    "                    if info[4] == '20170427-VeryMax':\n",
    "                        if(len(info) == 5):\n",
    "                            solved['SAT14'] += 1\n",
    "                            times['SAT14'] += time\n",
    "                        else:\n",
    "                            solved[info[5]] += 1\n",
    "                            times[info[5]] += time\n",
    "                    elif info[4] == 'UltimateAutomizer' or info[4] == 'UltimateLassoRanker':\n",
    "                        solved['LassoRanker'] += 1\n",
    "                        times['LassoRanker'] += time\n",
    "                    elif info[4] == '20210219-Dartagnan':\n",
    "                        solved['Dartagnan'] += 1\n",
    "                        times['Dartagnan'] += time\n",
    "                    elif info[4] != '2019-ezsmt':\n",
    "                        solved[info[4]] += 1\n",
    "                        times[info[4]] += time\n",
    "    records.loc[records['name'] == filefolder + '_solved', ['AProVE', 'calypto', 'Dartagnan', 'LassoRanker', 'leipzig', 'mcm', 'CInteger', 'ITS', 'SAT14', 'total']] = [solved['AProVE'], solved['calypto'], solved['Dartagnan'], solved['LassoRanker'], solved['leipzig'], solved['mcm'], solved['CInteger'], solved['ITS'], solved['SAT14'], solved['total']]\n",
    "    records.loc[records['name'] == filefolder + '_time', ['AProVE', 'calypto', 'Dartagnan', 'LassoRanker', 'leipzig', 'mcm', 'CInteger', 'ITS', 'SAT14', 'total']] = [times['AProVE'], times['calypto'], times['Dartagnan'], times['LassoRanker'], times['leipzig'], times['mcm'], times['CInteger'], times['ITS'], times['SAT14'], times['total']]\n",
    "\n",
    "print(\"Waiting...\")\n",
    "records.to_excel('Result/1_1.xlsx')\n",
    "print(\"Done\")"
   ]
  },
  {
   "cell_type": "code",
   "execution_count": 1,
   "metadata": {},
   "outputs": [
    {
     "name": "stderr",
     "output_type": "stream",
     "text": [
      "MS: 100%|██████████| 19/19 [00:00<00:00, 487.06it/s]\n",
      "RTX100: 100%|██████████| 18/18 [00:00<00:00, 359.98it/s]\n",
      "STC: 100%|██████████| 21/21 [00:00<00:00, 176.48it/s]\n"
     ]
    },
    {
     "name": "stdout",
     "output_type": "stream",
     "text": [
      "Waiting...\n",
      "Done\n"
     ]
    }
   ],
   "source": [
    "import pandas as pd\n",
    "import os\n",
    "import re\n",
    "from tqdm import tqdm\n",
    "\n",
    "records = pd.read_excel(r\"3.xlsx\", header=[0], index_col = [0])\n",
    "path = \"new_Data_File2\"\n",
    "folder_list = os.listdir(path)\n",
    "for filefolder in folder_list:\n",
    "    file_path = path + \"/\" + filefolder\n",
    "    file_list = os.listdir(file_path)\n",
    "    for filename in tqdm(file_list, desc = filefolder):\n",
    "        with open(os.path.join(file_path, filename)) as f:\n",
    "            solved = 0\n",
    "            time = 0\n",
    "            flag = False\n",
    "            f.readline()\n",
    "            while f.readline():\n",
    "                result = f.readline()\n",
    "                if result[:2] == '..':\n",
    "                    info = result\n",
    "                else:\n",
    "                    info = f.readline()\n",
    "                    cnt = 0\n",
    "                    while info[:3] != '../':\n",
    "                        if info[:3] == 'sat':\n",
    "                            result = 'sat'\n",
    "                        info = f.readline()\n",
    "                        cnt += 1\n",
    "                        if cnt > 100:\n",
    "                            flag = True\n",
    "                            break\n",
    "                if flag:\n",
    "                    break\n",
    "                info = info.split('/')\n",
    "                if result[:3] == 'sat':\n",
    "                    time += int(info[-1].split(' : ')[1][:-5])\n",
    "                    solved += 1\n",
    "        records.loc[records['name'] == filename[:-4] + '_solved', [filefolder]] = solved\n",
    "        records.loc[records['name'] == filename[:-4] + '_time', [filefolder]] = time\n",
    "\n",
    "print(\"Waiting...\")\n",
    "records.to_excel('Result/3_1.xlsx')\n",
    "print(\"Done\")"
   ]
  },
  {
   "cell_type": "code",
   "execution_count": 16,
   "metadata": {},
   "outputs": [
    {
     "name": "stderr",
     "output_type": "stream",
     "text": [
      "sat_test: 100%|██████████| 26/26 [00:00<00:00, 1196.36it/s]\n",
      "test: 100%|██████████| 6/6 [00:00<00:00, 75.08it/s]\n",
      "RTX: 100%|██████████| 19/19 [00:00<00:00, 1004.08it/s]\n",
      "MS: 100%|██████████| 19/19 [00:00<00:00, 1507.89it/s]\n",
      "RTX100: 100%|██████████| 18/18 [00:00<00:00, 2018.49it/s]\n"
     ]
    }
   ],
   "source": [
    "# 初始化，生成sat_test的初始文件\n",
    "\n",
    "import pandas as pd\n",
    "import os\n",
    "import re\n",
    "from tqdm import tqdm\n",
    "\n",
    "records = pd.read_excel(r\"1.xlsx\", header=[0], index_col = [0])\n",
    "path = \"sat_test\"\n",
    "folder_list = os.listdir(path)\n",
    "for filename in tqdm(folder_list, desc = path):\n",
    "    if len(records.loc[records['name'] == filename + '_solved']) == 0:\n",
    "        records = records.append({'name': filename + '_solved'}, ignore_index=True, verify_integrity=True)\n",
    "        records = records.append({'name': filename + '_time'}, ignore_index=True, verify_integrity=True)\n",
    "records.to_excel('1.xlsx')\n",
    "\n",
    "# 生成test的初始文件\n",
    "\n",
    "records = pd.read_excel(r\"2.xlsx\", header=[0], index_col = [0])\n",
    "path = \"test\"\n",
    "folder_list = os.listdir(path)\n",
    "for filename in tqdm(folder_list, desc = path):\n",
    "    if len(records.loc[records['name'] == filename + '_solved']) == 0:\n",
    "        records = records.append({'name': filename + '_solved'}, ignore_index=True, verify_integrity=True)\n",
    "        records = records.append({'name': filename + '_time'}, ignore_index=True, verify_integrity=True)\n",
    "records.to_excel('2.xlsx')\n",
    "\n",
    "# 生成 MS、RTX、STC的初始文件\n",
    "\n",
    "records = pd.read_excel(r\"3.xlsx\", header=[0], index_col = [0])\n",
    "path = \"sat_test2\"\n",
    "folder_list = os.listdir(path)\n",
    "for filefolder in folder_list:\n",
    "    file_path = path + \"/\" + filefolder\n",
    "    file_list = os.listdir(file_path)\n",
    "    for filename in tqdm(file_list, desc = filefolder):\n",
    "        if len(records.loc[records['name'] == filename[:-4] + '_solved']) == 0:\n",
    "            records = records.append({'name': filename[:-4] + '_solved'}, ignore_index=True, verify_integrity=True)\n",
    "            records = records.append({'name': filename[:-4] + '_time'}, ignore_index=True, verify_integrity=True)\n",
    "records.to_excel('3.xlsx')"
   ]
  }
 ],
 "metadata": {
  "interpreter": {
   "hash": "b3ba2566441a7c06988d0923437866b63cedc61552a5af99d1f4fb67d367b25f"
  },
  "kernelspec": {
   "display_name": "Python 3.8.5 64-bit ('base': conda)",
   "language": "python",
   "name": "python3"
  },
  "language_info": {
   "codemirror_mode": {
    "name": "ipython",
    "version": 3
   },
   "file_extension": ".py",
   "mimetype": "text/x-python",
   "name": "python",
   "nbconvert_exporter": "python",
   "pygments_lexer": "ipython3",
   "version": "3.9.5"
  },
  "orig_nbformat": 4
 },
 "nbformat": 4,
 "nbformat_minor": 2
}
