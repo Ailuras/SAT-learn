{
 "cells": [
  {
   "cell_type": "markdown",
   "metadata": {},
   "source": [
    "寻找难例子"
   ]
  },
  {
   "cell_type": "code",
   "execution_count": null,
   "metadata": {},
   "outputs": [],
   "source": [
    "import pandas as pd\n",
    "import os\n",
    "import re\n",
    "from tqdm import tqdm\n",
    "\n",
    "path = \"ismt_c/2400\"\n",
    "file_list = os.listdir(path)\n",
    "result_index = \"ismt_c_Result\"\n",
    "timeout_index = \"ismt__Timeout\"\n",
    "for filename in tqdm(file_list, desc = 'ismt_c'):\n",
    "    with open(os.path.join(path, filename)) as f:\n",
    "        while f.readline():\n",
    "            result = 0\n",
    "            info = f.readline()\n",
    "            while info[:3] != '../':\n",
    "                if info[:3] == 'sat':\n",
    "                    result = 1\n",
    "                info = f.readline()               \n",
    "            if result == 0:\n",
    "                info = info.split(' : ')[0]\n",
    "                info = '/'.join(info.split('/')[3:])\n",
    "                # print(info)\n",
    "                if info:\n",
    "                    with open('hardSample.log','a') as f1:\n",
    "                        print(info, file = f1)\n",
    "                # else:\n",
    "                #     with open('error.log','a') as f1:\n",
    "                #         print(info, file = f1)"
   ]
  },
  {
   "cell_type": "markdown",
   "metadata": {},
   "source": [
    "将难例子放到一个文件夹下"
   ]
  },
  {
   "cell_type": "code",
   "execution_count": null,
   "metadata": {},
   "outputs": [],
   "source": [
    "import pandas as pd\n",
    "import os\n",
    "import re\n",
    "from tqdm import tqdm\n",
    "import shutil\n",
    "\n",
    "len = 0\n",
    "with open('hardSample.log') as f:\n",
    "    filename = f.readline()\n",
    "    len += 1\n",
    "    while filename:\n",
    "        old_file_path = '../../QF_NIA/' + filename[:-1]\n",
    "        new_file_path = 'hardSample/' + filename[:-1].split('/')[-1]\n",
    "        try:\n",
    "            shutil.copyfile(old_file_path, new_file_path)\n",
    "        finally:\n",
    "            filename = f.readline()"
   ]
  },
  {
   "cell_type": "code",
   "execution_count": 8,
   "metadata": {},
   "outputs": [
    {
     "name": "stdout",
     "output_type": "stream",
     "text": [
      "    filename\n",
      "1  test.smt2\n"
     ]
    }
   ],
   "source": [
    "import pandas as pd\n",
    "import os\n",
    "import re\n",
    "from tqdm import tqdm\n",
    "\n",
    "records = pd.read_excel(r\"result_base.xlsx\", header=[0], index_col = [0])\n",
    "# print(records)\n",
    "with open('hardSample.log') as f:\n",
    "    filename = f.readline()[:-1].split('/')[-1]\n",
    "    while filename:\n",
    "        try:\n",
    "            records = records.append({'filename': filename}, ignore_index=True, verify_integrity=True)\n",
    "        finally:\n",
    "            filename = f.readline()\n",
    "records.to_excel('result_base1.xlsx')"
   ]
  },
  {
   "cell_type": "markdown",
   "metadata": {},
   "source": [
    "整理难例子求解数据"
   ]
  },
  {
   "cell_type": "code",
   "execution_count": null,
   "metadata": {},
   "outputs": [],
   "source": [
    "import pandas as pd\n",
    "import os\n",
    "import re\n",
    "from tqdm import tqdm\n",
    "\n",
    "records = pd.read_excel(r\"Result/records1.xlsx\", header=[0], index_col = [0])\n",
    "path = \"result\"\n",
    "file_list = os.listdir(path)\n",
    "for filename in tqdm(file_list, desc = 'ismt_c'):\n",
    "    result_index = filename + '_result'\n",
    "    timeout_index = filename + '_timeout'\n",
    "    with open(os.path.join(path, filename)) as f:\n",
    "        while f.readline():\n",
    "            result = 0\n",
    "            info = f.readline()\n",
    "            while info[:3] != '../':\n",
    "                if info[:3] == 'sat':\n",
    "                    result = 1\n",
    "                info = f.readline()               \n",
    "            if result == 0:\n",
    "                name = info.split(' : ')[0].split('/')[-1]\n",
    "                timeout = info.split(' : ')[1][:-5]\n",
    "                # print(info)\n",
    "                records.loc[records['filename'] == name, [result_index, timeout_index]] = [result, timeout]\n",
    "records.to_excel('result.xlsx')"
   ]
  }
 ],
 "metadata": {
  "interpreter": {
   "hash": "30fab6c85a083c1c486b5274d4a62cd0a72d9bbfa1f3f48a032977065912d691"
  },
  "kernelspec": {
   "display_name": "Python 3.9.7 ('base')",
   "language": "python",
   "name": "python3"
  },
  "language_info": {
   "codemirror_mode": {
    "name": "ipython",
    "version": 3
   },
   "file_extension": ".py",
   "mimetype": "text/x-python",
   "name": "python",
   "nbconvert_exporter": "python",
   "pygments_lexer": "ipython3",
   "version": "3.9.5"
  },
  "orig_nbformat": 4
 },
 "nbformat": 4,
 "nbformat_minor": 2
}
