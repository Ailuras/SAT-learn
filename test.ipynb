{
 "cells": [
  {
   "cell_type": "code",
   "execution_count": null,
   "metadata": {},
   "outputs": [],
   "source": [
    "import pandas as pd\n",
    "import os\n",
    "import re\n",
    "records = pd.read_excel(r\"new.xlsx\", header=[0], index_col = [0])\n",
    "records"
   ]
  },
  {
   "cell_type": "markdown",
   "metadata": {},
   "source": [
    "保存smt的变量、限制等信息"
   ]
  },
  {
   "cell_type": "code",
   "execution_count": null,
   "metadata": {},
   "outputs": [],
   "source": [
    "path = \"../QF_NIA/20170427-VeryMax\"\n",
    "folder_list = os.listdir(path)\n",
    "for filefolder in folder_list:\n",
    "    folder_path = path + \"/\" + filefolder\n",
    "    file_list = os.listdir(folder_path)\n",
    "    total = len(file_list)\n",
    "    count = 1\n",
    "    for filename in file_list:\n",
    "        with open(os.path.join(folder_path, filename)) as f:\n",
    "            vars = 0\n",
    "            assertions = 0\n",
    "            line = f.readline()\n",
    "            while line:\n",
    "                if line[:3] == '(de':\n",
    "                    vars += 1\n",
    "                elif line[:3] == '(as':\n",
    "                    assertions += 1\n",
    "                line = f.readline()\n",
    "            print(count, \"/\", total,\": \", filename, \"+\", vars, \"+\", assertions)\n",
    "            count += 1\n",
    "            records = records.append({'Problem(file name)':+filename, '#vars':vars, '#assertions':assertions}, ignore_index=True, verify_integrity=True)\n",
    "records.to_excel('new.xlsx')"
   ]
  },
  {
   "cell_type": "code",
   "execution_count": null,
   "metadata": {},
   "outputs": [],
   "source": [
    "path = \"../QF_NIA\"\n",
    "folder_list = os.listdir(path)\n",
    "folder_list.remove('20170427-VeryMax')\n",
    "for filefolder in folder_list:\n",
    "    folder_path = path + \"/\" + filefolder\n",
    "    file_list = os.listdir(folder_path)\n",
    "    total = len(file_list)\n",
    "    count = 1\n",
    "    for filename in file_list:\n",
    "        with open(os.path.join(folder_path, filename)) as f:\n",
    "            vars = 0\n",
    "            assertions = 0\n",
    "            line = f.readline()\n",
    "            while line:\n",
    "                if line[:3] == '(de':\n",
    "                    vars += 1\n",
    "                elif line[:3] == '(as':\n",
    "                    assertions += 1\n",
    "                line = f.readline()\n",
    "            print(filefolder, \"(\",count, \"/\", total,\"): \", filename, \"+\", vars, \"+\", assertions)\n",
    "            count += 1\n",
    "            records = records.append({'Problem(file name)':filename, '#vars':vars, '#assertions':assertions}, ignore_index=True, verify_integrity=True)\n",
    "print(\"Waiting...\")\n",
    "records.to_excel('records.xlsx')\n",
    "print(\"Done\")"
   ]
  },
  {
   "cell_type": "markdown",
   "metadata": {},
   "source": [
    "修改filename未测试路径"
   ]
  },
  {
   "cell_type": "code",
   "execution_count": null,
   "metadata": {},
   "outputs": [],
   "source": [
    "folder_path = \"Data_File/z3_10\"\n",
    "file_list = os.listdir(folder_path)\n",
    "total = len(file_list)\n",
    "count = 1\n",
    "for filename in file_list:\n",
    "    with open(os.path.join(folder_path, filename)) as f:\n",
    "        while f.readline():\n",
    "            result = f.readline()\n",
    "            info = f.readline().split(' : ')\n",
    "            records.loc[records['Problem(file name)'] == info[0].split('/')[-1], 'Problem(file name)'] = info[0]\n",
    "    print(\"(\",count, \"/\", total,\"): \", filename)\n",
    "    count += 1\n",
    "print(\"Waiting...\")\n",
    "records.to_excel('new.xlsx')\n",
    "print(\"Done\")"
   ]
  },
  {
   "cell_type": "markdown",
   "metadata": {},
   "source": [
    "保存求解器得到的result、timeout等信息"
   ]
  },
  {
   "cell_type": "code",
   "execution_count": null,
   "metadata": {},
   "outputs": [],
   "source": [
    "path = \"Data_File\"\n",
    "folder_list = os.listdir(path)\n",
    "for filefolder in folder_list:\n",
    "    folder_path = path + \"/\" + filefolder\n",
    "    file_list = os.listdir(folder_path)\n",
    "    result_index = filefolder + \"_Result\"\n",
    "    timeout_index = filefolder + \"_Timeout\"\n",
    "    total = len(file_list)\n",
    "    count = 1\n",
    "    for filename in file_list:\n",
    "        print(filefolder, \"(\",count, \"/\", total,\"): \", filename)\n",
    "        with open(os.path.join(folder_path, filename)) as f:\n",
    "            while f.readline():\n",
    "                result = f.readline()\n",
    "                if result[:2] == '..':\n",
    "                    info = result\n",
    "                    result = 'none'\n",
    "                else:\n",
    "                    if result[:2] == './':\n",
    "                        result = 'timeout'\n",
    "                    info = f.readline()\n",
    "                    if info[:2] == './':\n",
    "                        info = f.readline()\n",
    "                info = info.split(' : ')\n",
    "                records.loc[records['Problem(file name)'] == info[0], [result_index, timeout_index]] = [result, info[1][:-1]]\n",
    "        count += 1\n",
    "records"
   ]
  },
  {
   "cell_type": "code",
   "execution_count": null,
   "metadata": {},
   "outputs": [],
   "source": [
    "print(\"Waiting...\")\n",
    "records.to_excel('new.xlsx')\n",
    "print(\"Done\")"
   ]
  },
  {
   "cell_type": "code",
   "execution_count": null,
   "metadata": {},
   "outputs": [],
   "source": [
    "str = '1234'\n",
    "print(str[:-1])"
   ]
  }
 ],
 "metadata": {
  "interpreter": {
   "hash": "b3ba2566441a7c06988d0923437866b63cedc61552a5af99d1f4fb67d367b25f"
  },
  "kernelspec": {
   "display_name": "Python 3.8.5 64-bit ('base': conda)",
   "language": "python",
   "name": "python3"
  },
  "language_info": {
   "codemirror_mode": {
    "name": "ipython",
    "version": 3
   },
   "file_extension": ".py",
   "mimetype": "text/x-python",
   "name": "python",
   "nbconvert_exporter": "python",
   "pygments_lexer": "ipython3",
   "version": "3.8.5"
  },
  "orig_nbformat": 4
 },
 "nbformat": 4,
 "nbformat_minor": 2
}
