{
 "cells": [
  {
   "cell_type": "code",
   "execution_count": 1,
   "metadata": {},
   "outputs": [
    {
     "data": {
      "text/html": [
       "<div>\n",
       "<style scoped>\n",
       "    .dataframe tbody tr th:only-of-type {\n",
       "        vertical-align: middle;\n",
       "    }\n",
       "\n",
       "    .dataframe tbody tr th {\n",
       "        vertical-align: top;\n",
       "    }\n",
       "\n",
       "    .dataframe thead tr th {\n",
       "        text-align: left;\n",
       "    }\n",
       "</style>\n",
       "<table border=\"1\" class=\"dataframe\">\n",
       "  <thead>\n",
       "    <tr>\n",
       "      <th></th>\n",
       "      <th>Unnamed: 0_level_0</th>\n",
       "      <th>Unnamed: 1_level_0</th>\n",
       "      <th>Unnamed: 2_level_0</th>\n",
       "      <th colspan=\"7\" halign=\"left\">Yices2</th>\n",
       "      <th>...</th>\n",
       "      <th colspan=\"10\" halign=\"left\">xxxxx</th>\n",
       "    </tr>\n",
       "    <tr>\n",
       "      <th></th>\n",
       "      <th>Problem(file name)</th>\n",
       "      <th>#vars</th>\n",
       "      <th>#assertions</th>\n",
       "      <th>Result</th>\n",
       "      <th>Timeout(10s)</th>\n",
       "      <th>Result.1</th>\n",
       "      <th>Timeout(1m)</th>\n",
       "      <th>Result.2</th>\n",
       "      <th>Timeout(10m)</th>\n",
       "      <th>Result.3</th>\n",
       "      <th>...</th>\n",
       "      <th>Result</th>\n",
       "      <th>Timeout(10s)</th>\n",
       "      <th>Result.1</th>\n",
       "      <th>Timeout(1m)</th>\n",
       "      <th>Result.2</th>\n",
       "      <th>Timeout(10m)</th>\n",
       "      <th>Result.3</th>\n",
       "      <th>Timeout(20m)</th>\n",
       "      <th>Result.4</th>\n",
       "      <th>Timeout(40m)</th>\n",
       "    </tr>\n",
       "  </thead>\n",
       "  <tbody>\n",
       "  </tbody>\n",
       "</table>\n",
       "<p>0 rows × 83 columns</p>\n",
       "</div>"
      ],
      "text/plain": [
       "Empty DataFrame\n",
       "Columns: [(Unnamed: 0_level_0, Problem(file name)), (Unnamed: 1_level_0, #vars), (Unnamed: 2_level_0, #assertions), (Yices2, Result), (Yices2, Timeout(10s)), (Yices2, Result.1), (Yices2, Timeout(1m)), (Yices2, Result.2), (Yices2, Timeout(10m)), (Yices2, Result.3), (Yices2, Timeout(20m)), (Yices2, Result.4), (Yices2, Timeout(40m)), (Z3, Result), (Z3, Timeout(10s)), (Z3, Result.1), (Z3, Timeout(1m)), (Z3, Result.2), (Z3, Timeout(10m)), (Z3, Result.3), (Z3, Timeout(20m)), (Z3, Result.4), (Z3, Timeout(40m)), (CVC5, Result), (CVC5, Timeout(10s)), (CVC5, Result.1), (CVC5, Timeout(1m)), (CVC5, Result.2), (CVC5, Timeout(10m)), (CVC5, Result.3), (CVC5, Timeout(20m)), (CVC5, Result.4), (CVC5, Timeout(40m)), (Mathsat5, Result), (Mathsat5, Timeout(10s)), (Mathsat5, Result.1), (Mathsat5, Timeout(1m)), (Mathsat5, Result.2), (Mathsat5, Timeout(10m)), (Mathsat5, Result.3), (Mathsat5, Timeout(20m)), (Mathsat5, Result.4), (Mathsat5, Timeout(40m)), (SMT-RAT, Result), (SMT-RAT, Timeout(10s)), (SMT-RAT, Result.1), (SMT-RAT, Timeout(1m)), (SMT-RAT, Result.2), (SMT-RAT, Timeout(10m)), (SMT-RAT, Result.3), (SMT-RAT, Timeout(20m)), (SMT-RAT, Result.4), (SMT-RAT, Timeout(40m)), (AProVe, Result), (AProVe, Timeout(10s)), (AProVe, Result.1), (AProVe, Timeout(1m)), (AProVe, Result.2), (AProVe, Timeout(10m)), (AProVe, Result.3), (AProVe, Timeout(20m)), (AProVe, Result.4), (AProVe, Timeout(40m)), (fastsmt, Result), (fastsmt, Timeout(10s)), (fastsmt, Result.1), (fastsmt, Timeout(1m)), (fastsmt, Result.2), (fastsmt, Timeout(10m)), (fastsmt, Result.3), (fastsmt, Timeout(20m)), (fastsmt, Result.4), (fastsmt, Timeout(40m)), (xxxxx, Result), (xxxxx, Timeout(10s)), (xxxxx, Result.1), (xxxxx, Timeout(1m)), (xxxxx, Result.2), (xxxxx, Timeout(10m)), (xxxxx, Result.3), (xxxxx, Timeout(20m)), (xxxxx, Result.4), (xxxxx, Timeout(40m))]\n",
       "Index: []\n",
       "\n",
       "[0 rows x 83 columns]"
      ]
     },
     "execution_count": 1,
     "metadata": {},
     "output_type": "execute_result"
    }
   ],
   "source": [
    "import pandas as pd\n",
    "import os\n",
    "records = pd.read_excel(r\"records.xlsx\",header=[0,1])\n",
    "records"
   ]
  },
  {
   "cell_type": "markdown",
   "metadata": {},
   "source": [
    "保存smt的变量、限制等信息"
   ]
  },
  {
   "cell_type": "code",
   "execution_count": 2,
   "metadata": {},
   "outputs": [
    {
     "ename": "FileNotFoundError",
     "evalue": "[Errno 2] No such file or directory: ''",
     "output_type": "error",
     "traceback": [
      "\u001b[0;31m---------------------------------------------------------------------------\u001b[0m",
      "\u001b[0;31mFileNotFoundError\u001b[0m                         Traceback (most recent call last)",
      "\u001b[0;32m/tmp/ipykernel_11607/2452022979.py\u001b[0m in \u001b[0;36m<module>\u001b[0;34m\u001b[0m\n\u001b[1;32m      1\u001b[0m \u001b[0mpath\u001b[0m \u001b[0;34m=\u001b[0m \u001b[0;34m\"\"\u001b[0m\u001b[0;34m\u001b[0m\u001b[0;34m\u001b[0m\u001b[0m\n\u001b[0;32m----> 2\u001b[0;31m \u001b[0mpath_list\u001b[0m \u001b[0;34m=\u001b[0m \u001b[0mos\u001b[0m\u001b[0;34m.\u001b[0m\u001b[0mlistdir\u001b[0m\u001b[0;34m(\u001b[0m\u001b[0mpath\u001b[0m\u001b[0;34m)\u001b[0m\u001b[0;34m\u001b[0m\u001b[0;34m\u001b[0m\u001b[0m\n\u001b[0m\u001b[1;32m      3\u001b[0m \u001b[0;32mfor\u001b[0m \u001b[0mfilename\u001b[0m \u001b[0;32min\u001b[0m \u001b[0mpath_list\u001b[0m\u001b[0;34m:\u001b[0m\u001b[0;34m\u001b[0m\u001b[0;34m\u001b[0m\u001b[0m\n\u001b[1;32m      4\u001b[0m     \u001b[0mf\u001b[0m \u001b[0;34m=\u001b[0m \u001b[0mopen\u001b[0m\u001b[0;34m(\u001b[0m\u001b[0mos\u001b[0m\u001b[0;34m.\u001b[0m\u001b[0mpath\u001b[0m\u001b[0;34m.\u001b[0m\u001b[0mjoin\u001b[0m\u001b[0;34m(\u001b[0m\u001b[0mpath\u001b[0m\u001b[0;34m,\u001b[0m \u001b[0mfilename\u001b[0m\u001b[0;34m)\u001b[0m\u001b[0;34m,\u001b[0m \u001b[0;34m'rb'\u001b[0m\u001b[0;34m)\u001b[0m\u001b[0;34m\u001b[0m\u001b[0;34m\u001b[0m\u001b[0m\n\u001b[1;32m      5\u001b[0m \u001b[0;34m\u001b[0m\u001b[0m\n",
      "\u001b[0;31mFileNotFoundError\u001b[0m: [Errno 2] No such file or directory: ''"
     ]
    }
   ],
   "source": [
    "path = \"\"\n",
    "path_list = os.listdir(path)\n",
    "for filename in path_list:\n",
    "    f = open(os.path.join(path, filename), 'rb')\n",
    "    "
   ]
  }
 ],
 "metadata": {
  "interpreter": {
   "hash": "b3ba2566441a7c06988d0923437866b63cedc61552a5af99d1f4fb67d367b25f"
  },
  "kernelspec": {
   "display_name": "Python 3.8.5 64-bit ('base': conda)",
   "language": "python",
   "name": "python3"
  },
  "language_info": {
   "codemirror_mode": {
    "name": "ipython",
    "version": 3
   },
   "file_extension": ".py",
   "mimetype": "text/x-python",
   "name": "python",
   "nbconvert_exporter": "python",
   "pygments_lexer": "ipython3",
   "version": "3.7.3"
  },
  "orig_nbformat": 4
 },
 "nbformat": 4,
 "nbformat_minor": 2
}
