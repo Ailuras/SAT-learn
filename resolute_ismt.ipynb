{
 "cells": [
  {
   "cell_type": "code",
   "execution_count": null,
   "metadata": {},
   "outputs": [],
   "source": [
    "import pandas as pd\n",
    "import os\n",
    "import re\n",
    "\n",
    "records = pd.read_excel(r\"Result/ismt_base.xlsx\", header=[0], index_col = [0])\n",
    "\n",
    "for i in range(len(records)):\n",
    "    filename = records.iloc[i]['Problem(file name)']\n",
    "    records.iloc[i, 0] = filename.split('//')[1]\n",
    "\n",
    "print(\"Waiting...\")\n",
    "records.to_excel('Result/ismt_base.xlsx')\n",
    "print(\"Done\")\n"
   ]
  },
  {
   "cell_type": "code",
   "execution_count": null,
   "metadata": {},
   "outputs": [],
   "source": [
    "import pandas as pd\n",
    "import os\n",
    "import re\n",
    "from tqdm import tqdm\n",
    "\n",
    "records = pd.read_excel(r\"Result/temp.xlsx\", header=[0], index_col = [0])\n",
    "\n",
    "path = \"Data_File\"\n",
    "folder_list = os.listdir(path)\n",
    "for filefolder in folder_list:\n",
    "    if filefolder == '2400_2021.12.22':\n",
    "        folder_path = path + \"/\" + filefolder\n",
    "        times_list = os.listdir(folder_path)\n",
    "        for filetimes in times_list:\n",
    "            file_path = folder_path + \"/\" + filetimes\n",
    "            file_list = os.listdir(file_path)\n",
    "            result_index = filetimes + \"_Result\"\n",
    "            timeout_index = filetimes + \"_Timeout\"\n",
    "            for filename in tqdm(file_list, desc = filetimes):\n",
    "                with open(os.path.join(file_path, filename)) as f:\n",
    "                    while f.readline():\n",
    "                        result = f.readline()\n",
    "                        if result[:2] == '..':\n",
    "                            info = result\n",
    "                            result = 'none'\n",
    "                        else:\n",
    "                            info = f.readline()\n",
    "                            while info[:17] != '../New_SAT_split/':\n",
    "                                result = info\n",
    "                                info = f.readline()\n",
    "                            if result[:2] == 're':\n",
    "                                result = 'sat'\n",
    "                            elif result[:2] == 'Nu':\n",
    "                                result = 'timeout'\n",
    "                        info = info.split(' : ')\n",
    "                        info1 = '/'.join(info[0].split('/')[3:])\n",
    "                        records.loc[records['filename'] == info1, ['Problem(file name)', result_index, timeout_index]] = [info[0], result, info[1][:-2]]\n",
    "                        \n",
    "print(\"Waiting...\")\n",
    "records.to_excel('Result/records_ismt_new.xlsx')\n",
    "print(\"Done\")"
   ]
  }
 ],
 "metadata": {
  "interpreter": {
   "hash": "b3ba2566441a7c06988d0923437866b63cedc61552a5af99d1f4fb67d367b25f"
  },
  "kernelspec": {
   "display_name": "Python 3.8.5 64-bit ('base': conda)",
   "language": "python",
   "name": "python3"
  },
  "language_info": {
   "codemirror_mode": {
    "name": "ipython",
    "version": 3
   },
   "file_extension": ".py",
   "mimetype": "text/x-python",
   "name": "python",
   "nbconvert_exporter": "python",
   "pygments_lexer": "ipython3",
   "version": "3.8.5"
  },
  "orig_nbformat": 4
 },
 "nbformat": 4,
 "nbformat_minor": 2
}
